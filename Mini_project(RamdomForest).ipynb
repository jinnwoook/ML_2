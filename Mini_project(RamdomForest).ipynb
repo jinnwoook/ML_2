{
  "nbformat": 4,
  "nbformat_minor": 0,
  "metadata": {
    "colab": {
      "provenance": []
    },
    "kernelspec": {
      "name": "python3",
      "display_name": "Python 3"
    },
    "language_info": {
      "name": "python"
    }
  },
  "cells": [
    {
      "cell_type": "code",
      "execution_count": 1,
      "metadata": {
        "colab": {
          "base_uri": "https://localhost:8080/"
        },
        "id": "VEBXH_of9UO7",
        "outputId": "5cb2267f-2094-4c93-db41-2dd163622f82"
      },
      "outputs": [
        {
          "output_type": "stream",
          "name": "stdout",
          "text": [
            "Mounted at /content/drive\n",
            "/content/drive/My Drive/seoultech_ML/wildfire\n"
          ]
        }
      ],
      "source": [
        "from google.colab import drive\n",
        "drive.mount('/content/drive')\n",
        "# 현재 디렉토리 설정\n",
        "%cd /content/drive/My Drive/seoultech_ML/wildfire"
      ]
    },
    {
      "cell_type": "code",
      "source": [
        "!pip install seaborn\n",
        "!pip install scikit-learn"
      ],
      "metadata": {
        "colab": {
          "base_uri": "https://localhost:8080/"
        },
        "id": "rG6DXR659gR_",
        "outputId": "e1d22e41-debf-4445-cf34-e2c3f02ba064"
      },
      "execution_count": 2,
      "outputs": [
        {
          "output_type": "stream",
          "name": "stdout",
          "text": [
            "Requirement already satisfied: seaborn in /usr/local/lib/python3.10/dist-packages (0.13.1)\n",
            "Requirement already satisfied: numpy!=1.24.0,>=1.20 in /usr/local/lib/python3.10/dist-packages (from seaborn) (1.25.2)\n",
            "Requirement already satisfied: pandas>=1.2 in /usr/local/lib/python3.10/dist-packages (from seaborn) (1.5.3)\n",
            "Requirement already satisfied: matplotlib!=3.6.1,>=3.4 in /usr/local/lib/python3.10/dist-packages (from seaborn) (3.7.1)\n",
            "Requirement already satisfied: contourpy>=1.0.1 in /usr/local/lib/python3.10/dist-packages (from matplotlib!=3.6.1,>=3.4->seaborn) (1.2.0)\n",
            "Requirement already satisfied: cycler>=0.10 in /usr/local/lib/python3.10/dist-packages (from matplotlib!=3.6.1,>=3.4->seaborn) (0.12.1)\n",
            "Requirement already satisfied: fonttools>=4.22.0 in /usr/local/lib/python3.10/dist-packages (from matplotlib!=3.6.1,>=3.4->seaborn) (4.50.0)\n",
            "Requirement already satisfied: kiwisolver>=1.0.1 in /usr/local/lib/python3.10/dist-packages (from matplotlib!=3.6.1,>=3.4->seaborn) (1.4.5)\n",
            "Requirement already satisfied: packaging>=20.0 in /usr/local/lib/python3.10/dist-packages (from matplotlib!=3.6.1,>=3.4->seaborn) (24.0)\n",
            "Requirement already satisfied: pillow>=6.2.0 in /usr/local/lib/python3.10/dist-packages (from matplotlib!=3.6.1,>=3.4->seaborn) (9.4.0)\n",
            "Requirement already satisfied: pyparsing>=2.3.1 in /usr/local/lib/python3.10/dist-packages (from matplotlib!=3.6.1,>=3.4->seaborn) (3.1.2)\n",
            "Requirement already satisfied: python-dateutil>=2.7 in /usr/local/lib/python3.10/dist-packages (from matplotlib!=3.6.1,>=3.4->seaborn) (2.8.2)\n",
            "Requirement already satisfied: pytz>=2020.1 in /usr/local/lib/python3.10/dist-packages (from pandas>=1.2->seaborn) (2023.4)\n",
            "Requirement already satisfied: six>=1.5 in /usr/local/lib/python3.10/dist-packages (from python-dateutil>=2.7->matplotlib!=3.6.1,>=3.4->seaborn) (1.16.0)\n",
            "Requirement already satisfied: scikit-learn in /usr/local/lib/python3.10/dist-packages (1.2.2)\n",
            "Requirement already satisfied: numpy>=1.17.3 in /usr/local/lib/python3.10/dist-packages (from scikit-learn) (1.25.2)\n",
            "Requirement already satisfied: scipy>=1.3.2 in /usr/local/lib/python3.10/dist-packages (from scikit-learn) (1.11.4)\n",
            "Requirement already satisfied: joblib>=1.1.1 in /usr/local/lib/python3.10/dist-packages (from scikit-learn) (1.3.2)\n",
            "Requirement already satisfied: threadpoolctl>=2.0.0 in /usr/local/lib/python3.10/dist-packages (from scikit-learn) (3.4.0)\n"
          ]
        }
      ]
    },
    {
      "cell_type": "code",
      "source": [
        "import pandas as pd\n",
        "import numpy as np\n",
        "import matplotlib.pyplot as plt\n",
        "import seaborn as sns\n",
        "from sklearn.ensemble import RandomForestClassifier\n",
        "from sklearn.metrics import accuracy_score\n",
        "from sklearn.preprocessing import StandardScaler\n",
        "from sklearn.preprocessing import MinMaxScaler\n",
        "from sklearn.metrics import precision_score, recall_score, confusion_matrix\n",
        "from joblib import dump\n",
        "from joblib import load\n",
        "from itertools import combinations"
      ],
      "metadata": {
        "id": "CUqET4ah9hcL"
      },
      "execution_count": 7,
      "outputs": []
    },
    {
      "cell_type": "markdown",
      "source": [
        "## 데이터셋 설정\n",
        "\n",
        "---\n",
        "랜덤포레스트는 따로 전처리 및 스케일링 x\n",
        "\n",
        "이상치에 덜 민감"
      ],
      "metadata": {
        "id": "BKRe48ZaABd4"
      }
    },
    {
      "cell_type": "code",
      "source": [
        "# CSV 파일 로드\n",
        "data = pd.read_csv('train.csv')\n",
        "val = pd.read_csv('val.csv')"
      ],
      "metadata": {
        "id": "tpxNQljb9vMI"
      },
      "execution_count": 4,
      "outputs": []
    },
    {
      "cell_type": "code",
      "source": [
        "### 데이터셋 준비 ###\n",
        "\n",
        "# 학습 데이터\n",
        "X_train = data.drop('class', axis=1)  # target 열을 제외한 데이터\n",
        "y_train = data['class']  # 예측할 타겟 변수\n",
        "\n",
        "# 검증 데이터\n",
        "X_val = val.drop('class', axis=1)\n",
        "y_val = val['class']"
      ],
      "metadata": {
        "id": "lDYTcQd_ANpY"
      },
      "execution_count": 5,
      "outputs": []
    },
    {
      "cell_type": "markdown",
      "source": [
        "## RandomForest 정의\n",
        "\n",
        "---\n",
        "수치형 데이터셋 스케일링 할 필요 x\n",
        "\n",
        "n_estimators와 max_features는 모델 성능에 큰 영향을 미치는 인자로, 이 두 매개변수를 조정하여 모델의 성능을 크게 개선할 수 있습니다.\n",
        "\n",
        "\n",
        "min_samples_split, min_samples_leaf, max_depth 등은 모델의 과적합을 방지하기 위해 조정할 수 있는 인자입니다.\n"
      ],
      "metadata": {
        "id": "lIai7pVIASws"
      }
    },
    {
      "cell_type": "code",
      "source": [
        "model = RandomForestClassifier(\n",
        "    n_estimators=100,  # 트리의 개수. 더 많은 트리는 보통 더 좋은 성능을 의미하지만 계산 시간이 늘어납니다.\n",
        "    criterion='entropy',  # 불순도를 측정하는 함수. 'gini'나 'entropy'를 사용할 수 있습니다.\n",
        "    max_depth=None,  # 트리의 최대 깊이. 너무 깊어지면 과적합의 위험이 있습니다.\n",
        "    min_samples_split=2,  # 노드를 분할하기 위해 필요한 최소 샘플 수.\n",
        "    min_samples_leaf=1,  # 리프 노드가 가져야 하는 최소 샘플 수. 과적합을 제어하는 데 도움이 됩니다.\n",
        "    max_features='auto',  # 최적의 분할을 찾기 위해 고려할 특성의 수. 'auto', 'sqrt', 'log2', int, float 등을 사용할 수 있습니다.\n",
        "    max_leaf_nodes=None,  # 리프 노드의 최대 수. 이를 통해 트리의 형태를 제어할 수 있습니다.\n",
        "    min_impurity_decrease=0.0,  # 노드를 분할할 때 감소해야 하는 불순도의 최소량.\n",
        "    bootstrap=True,  # 부트스트랩(중복 허용 샘플링) 사용 여부. False로 설정하면 전체 데이터셋을 사용합니다.\n",
        "    oob_score=True,  # True로 설정하면 트레이닝 데이터의 일부가 아닌 샘플을 사용하여 모델의 일반화 정확도를 평가합니다.\n",
        "    n_jobs=None,  # 학습과 예측에 사용할 작업 수. '-1'로 설정하면 모든 프로세서를 사용합니다.\n",
        "    random_state=42,  # 결과의 재현 가능성을 위한 랜덤 시드 값.\n",
        "    class_weight={0: 1, 1: 10},  # 클래스 가중치. 'balanced', 'balanced_subsample', 딕셔너리 형태 또는 'None'을 사용할 수 있습니다.\n",
        "    ccp_alpha=0.0  # 비용 복잡도 가지치기(Cost Complexity Pruning)의 복잡도 매개변수. 과적합을 방지하는 데 사용됩니다.\n",
        ")"
      ],
      "metadata": {
        "id": "LgIM005gAUpQ"
      },
      "execution_count": 8,
      "outputs": []
    },
    {
      "cell_type": "code",
      "source": [
        "### 모델 학습 ###\n",
        "\n",
        "model.fit(X_train, y_train)\n",
        "train_pred = model.predict(X_train)\n",
        "\n",
        "# 학습 정확도 계산\n",
        "train_accuracy = accuracy_score(y_train, train_pred)\n",
        "print(\"Training Accuracy:\", train_accuracy)"
      ],
      "metadata": {
        "colab": {
          "base_uri": "https://localhost:8080/"
        },
        "id": "EuWghXCOAZjQ",
        "outputId": "2fe5b604-e3fb-4ff1-ee3f-055b112ca81f"
      },
      "execution_count": 9,
      "outputs": [
        {
          "output_type": "stream",
          "name": "stderr",
          "text": [
            "/usr/local/lib/python3.10/dist-packages/sklearn/ensemble/_forest.py:424: FutureWarning: `max_features='auto'` has been deprecated in 1.1 and will be removed in 1.3. To keep the past behaviour, explicitly set `max_features='sqrt'` or remove this parameter as it is also the default value for RandomForestClassifiers and ExtraTreesClassifiers.\n",
            "  warn(\n"
          ]
        },
        {
          "output_type": "stream",
          "name": "stdout",
          "text": [
            "Training Accuracy: 1.0\n"
          ]
        }
      ]
    },
    {
      "cell_type": "code",
      "source": [
        "### 평가지표 ### - val(OA)\n",
        "### 추론 ###\n",
        "predictions = model.predict(X_val)\n",
        "accuracy = accuracy_score(y_val, predictions)\n",
        "print(f'Accuracy (OA): {accuracy}')"
      ],
      "metadata": {
        "colab": {
          "base_uri": "https://localhost:8080/"
        },
        "id": "VHWD-MlfAq3O",
        "outputId": "7a459d6b-3225-4420-f563-33a69d07d68e"
      },
      "execution_count": 10,
      "outputs": [
        {
          "output_type": "stream",
          "name": "stdout",
          "text": [
            "Accuracy (OA): 0.9808115759672853\n"
          ]
        }
      ]
    },
    {
      "cell_type": "code",
      "source": [
        "### 혼동행렬 및 정밀도,재현율 출력 ###\n",
        "conf_matrix = confusion_matrix(y_val, predictions)\n",
        "precision = precision_score(y_val, predictions)\n",
        "recall = recall_score(y_val, predictions)\n",
        "\n",
        "print(f'Precision: {precision}')\n",
        "print(f'Recall: {recall}')\n",
        "print(f'Confusion Matrix:\\n{conf_matrix}')"
      ],
      "metadata": {
        "colab": {
          "base_uri": "https://localhost:8080/"
        },
        "id": "whqBIo4oA1oW",
        "outputId": "56a24f36-4717-4025-ea19-b16ce042097a"
      },
      "execution_count": 11,
      "outputs": [
        {
          "output_type": "stream",
          "name": "stdout",
          "text": [
            "Precision: 0.9233576642335767\n",
            "Recall: 0.863481228668942\n",
            "Confusion Matrix:\n",
            "[[2865   21]\n",
            " [  40  253]]\n"
          ]
        }
      ]
    },
    {
      "cell_type": "markdown",
      "source": [
        "## 변수 중요도 평가"
      ],
      "metadata": {
        "id": "QId7CB_8BosW"
      }
    },
    {
      "cell_type": "code",
      "source": [
        "# 변수 중요도 평가\n",
        "importances = model.feature_importances_\n",
        "\n",
        "# 변수 이름과 중요도를 딕셔너리로 묶기\n",
        "feature_importances = {name: score for name, score in zip(X_train.columns, importances)}\n",
        "\n",
        "# 중요도에 따라 변수를 정렬\n",
        "sorted_feature_importances = sorted(feature_importances.items(), key=lambda x: x[1], reverse=True)\n",
        "\n",
        "# 상위 n개 변수와 중요도 출력\n",
        "for feature, importance in sorted_feature_importances[:20]:\n",
        "    print(f\"{feature}: {importance}\")\n",
        "\n",
        "# 중요도가 높은 변수의 인덱스를 얻기\n",
        "indices = np.argsort(importances)[::-1]\n",
        "\n",
        "# 중요도가 높은 변수만 선택\n",
        "selected_features = X_train.columns[indices[:17]]  # n은 선택할 변수의 수\n",
        "selected_features"
      ],
      "metadata": {
        "colab": {
          "base_uri": "https://localhost:8080/"
        },
        "id": "dnmkUcHKBsGt",
        "outputId": "c6d6030a-78cd-4100-edd1-4141f5967b15"
      },
      "execution_count": 12,
      "outputs": [
        {
          "output_type": "stream",
          "name": "stdout",
          "text": [
            "ch06_07: 0.10920985595978523\n",
            "ch05_07: 0.10034648020632683\n",
            "bt07_13r: 0.09298401244885322\n",
            "bt07_13: 0.08092106372737555\n",
            "bt07_11r: 0.06244379065310728\n",
            "bt07_14r: 0.06125411726652207\n",
            "bt07_11: 0.059847500047615146\n",
            "bt07_12r: 0.058308888413874854\n",
            "bt07_15r: 0.05163448624865121\n",
            "ch07_13: 0.050290245093231024\n",
            "bt13_15: 0.046112035016650475\n",
            "ch12_15: 0.04592903751026598\n",
            "bt13_14r: 0.036552213737391204\n",
            "bt13_15r: 0.03573626828334666\n",
            "bt07_08r: 0.026411877131546205\n",
            "bt07_10r: 0.023942019041735565\n",
            "bt07_16r: 0.0205753086594184\n",
            "bt11_15r: 0.02049713427837727\n",
            "bt07_09r: 0.017003666275925967\n"
          ]
        },
        {
          "output_type": "execute_result",
          "data": {
            "text/plain": [
              "Index(['ch06_07', 'ch05_07', 'bt07_13r', 'bt07_13', 'bt07_11r', 'bt07_14r',\n",
              "       'bt07_11', 'bt07_12r', 'bt07_15r', 'ch07_13', 'bt13_15', 'ch12_15',\n",
              "       'bt13_14r', 'bt13_15r', 'bt07_08r', 'bt07_10r', 'bt07_16r'],\n",
              "      dtype='object')"
            ]
          },
          "metadata": {},
          "execution_count": 12
        }
      ]
    }
  ]
}